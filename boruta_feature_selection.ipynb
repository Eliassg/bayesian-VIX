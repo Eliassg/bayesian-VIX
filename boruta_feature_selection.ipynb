{
 "cells": [
  {
   "cell_type": "markdown",
   "id": "bf766ebf-935b-4b32-b0f6-2cd4332cd06a",
   "metadata": {},
   "source": [
    "# Import packages"
   ]
  },
  {
   "cell_type": "code",
   "execution_count": null,
   "id": "3e553328-40e9-47d2-8334-6d905e50dedb",
   "metadata": {},
   "outputs": [],
   "source": [
    "import numpy as np\n",
    "import pandas as pd\n",
    "from window_generator import WindowGenerator"
   ]
  },
  {
   "cell_type": "markdown",
   "id": "b999d02d-5b97-4eef-90aa-7da01511a885",
   "metadata": {},
   "source": [
    "# Import data"
   ]
  },
  {
   "cell_type": "markdown",
   "id": "2f6a3d18-67e6-4ff7-a04d-c7969c0d6280",
   "metadata": {},
   "source": [
    "Import the dataset and create train/val/test split using a *70/30* % split. Only the training data will be used for feature selection"
   ]
  },
  {
   "cell_type": "code",
   "execution_count": null,
   "id": "80fb3668-a5c1-4c88-811b-54018418d583",
   "metadata": {
    "tags": []
   },
   "outputs": [],
   "source": [
    "directory = \"stationary_dataset.csv\"\n",
    "df = pd.read_csv(directory, index_col=0, parse_dates=[0])"
   ]
  },
  {
   "cell_type": "markdown",
   "id": "f298cbda-c955-4cf2-97ca-50eab9cd7b98",
   "metadata": {},
   "source": [
    "Create split and save the index of each feature"
   ]
  },
  {
   "cell_type": "code",
   "execution_count": null,
   "id": "2a38acf6-434e-479f-b5e8-79cb1b8bc49c",
   "metadata": {},
   "outputs": [],
   "source": [
    "column_indices = {name: i for i, name in enumerate(df.columns)}\n",
    "\n",
    "n = len(df)\n",
    "train_ind = int(n*0.7)\n",
    "train_df = df[0:train_ind]\n",
    "test_df = df[train_ind:]\n",
    "\n",
    "num_features = df.shape[1]"
   ]
  },
  {
   "cell_type": "markdown",
   "id": "48adbea2-3a3c-4f06-813a-390dc0abb721",
   "metadata": {},
   "source": [
    "# Perform Boruta feature selection"
   ]
  },
  {
   "cell_type": "markdown",
   "id": "6afb558b-78e1-4d7a-b97f-6105ecd43855",
   "metadata": {},
   "source": [
    "The *Boruta* feature selection procedure is applied to four windows of the training data to avoid data leakage. Then, features with strong support in two or more folds are saved to the set of selected features. "
   ]
  },
  {
   "cell_type": "code",
   "execution_count": null,
   "id": "242ac090-0f9d-4af1-b629-6f9757cd452e",
   "metadata": {},
   "outputs": [],
   "source": [
    "# Import packages\n",
    "from sklearn.ensemble import RandomForestRegressor\n",
    "from boruta import BorutaPy"
   ]
  },
  {
   "cell_type": "markdown",
   "id": "bf30121b-75a6-415d-906e-ebd50525c35e",
   "metadata": {},
   "source": [
    "Iterate over folds, and perform feature selection within each fold. Save the selected features. The selection is done using 1-day ahead data in this demonstratio. To use a different horizon the `shift` parameter can be changed in the following cell"
   ]
  },
  {
   "cell_type": "code",
   "execution_count": null,
   "id": "733fd7bc-8d2f-4f98-ab8f-0f0fa8b2f19b",
   "metadata": {
    "tags": []
   },
   "outputs": [],
   "source": [
    "input_width = 5\n",
    "window = WindowGenerator(\n",
    "    input_width=input_width, label_width=1, shift=1, label_columns=['VIX'], \n",
    "    train_df=train_df, val_df=val_df, test_df=test_df, scale=False)\n",
    "window"
   ]
  },
  {
   "cell_type": "markdown",
   "id": "e3900cb0-7be0-4260-8d6b-a2c68f82807d",
   "metadata": {},
   "source": [
    "Create dictionaries to store results for each window. The features with *weak support* are those which has not been confirmed nor denied as the number of iterations has been completed."
   ]
  },
  {
   "cell_type": "code",
   "execution_count": null,
   "id": "dbc6f3bd-e39c-42ec-9b75-3775b90634d6",
   "metadata": {
    "tags": []
   },
   "outputs": [],
   "source": [
    "n_splits = window.n_splits\n",
    "strong_support = {i:None for i in range(n_splits)}\n",
    "weak_support = {i:None for i in range(n_splits)}\n",
    "ranking = {i:None for i in range(n_splits)}"
   ]
  },
  {
   "cell_type": "code",
   "execution_count": null,
   "id": "a55fedb1-6a04-407f-a9bf-07f705af0963",
   "metadata": {
    "tags": []
   },
   "outputs": [],
   "source": [
    "# Create 2D numpy array of the windows\n",
    "folds = w.np_folds\n",
    "\n",
    "for i, fold in enumerate(folds):\n",
    "    # Get data\n",
    "    train_x, train_y, val_x, val_y = fold\n",
    "    train_x = train_x.reshape(len(train_x), -1)\n",
    "    train_y = train_y.reshape((-1))\n",
    "    \n",
    "    # Create model and boruta instance\n",
    "    model = RandomForestRegressor(n_estimators=250, max_depth=5, random_state=42)\n",
    "    feat_selector = BorutaPy(\n",
    "        verbose=0,\n",
    "        estimator=model,\n",
    "        n_estimators='auto',\n",
    "        max_iter=250,  # number of iterations to perform\n",
    "    )\n",
    "    \n",
    "    # Run feature selection\n",
    "    print(f\"Started running Boruta on fold {i}\")\n",
    "    feat_selector.fit(train_x, train_y)\n",
    "    print(f\"Finished running Boruta on fold {i}\")\n",
    "    print(\"-\"*20)\n",
    "    # Save results\n",
    "    strong_support[i] = feat_selector.support_.copy()\n",
    "    weak_support[i] = feat_selector.support_weak_.copy()\n",
    "    ranking[i] = feat_selector.ranking_.copy()\n",
    "    \n",
    "    \n",
    "    # Delete model to clear up memory\n",
    "    del feat_selector\n",
    "    del model\n",
    "    "
   ]
  },
  {
   "cell_type": "markdown",
   "id": "878c3660-a734-4a90-929c-9b1c8c804e38",
   "metadata": {},
   "source": [
    "# Save the results"
   ]
  },
  {
   "cell_type": "markdown",
   "id": "ff84f369-075d-4265-9f09-c7a9260bf0aa",
   "metadata": {},
   "source": [
    "Store the feature and its indices"
   ]
  },
  {
   "cell_type": "code",
   "execution_count": null,
   "id": "69db0333-0e05-49a6-8f52-1cc079083462",
   "metadata": {},
   "outputs": [],
   "source": [
    "cols = df.columns\n",
    "flat_cols = []\n",
    "\n",
    "for i in range(w.input_width, 0, -1):\n",
    "    lag = f'_Lag_{i}'\n",
    "    for col in cols:\n",
    "        flat_cols.append(f'{col}{lag}')\n",
    "\n",
    "flat_column_indices = {name: i for i, name in enumerate(flat_cols)}"
   ]
  },
  {
   "cell_type": "code",
   "execution_count": null,
   "id": "b441e86d-a890-41c7-a409-db30724548c9",
   "metadata": {
    "tags": []
   },
   "outputs": [],
   "source": [
    "# Get all features without lag suffix\n",
    "ordered_cols = [i[:-6] for i in flat_cols[:47]]"
   ]
  },
  {
   "cell_type": "markdown",
   "id": "9f263919-a26d-440e-b614-fab562d6114c",
   "metadata": {},
   "source": [
    "Save the support and ranking for each feature for each window using a Pandas dataframe"
   ]
  },
  {
   "cell_type": "code",
   "execution_count": null,
   "id": "bb55c124-1f0c-44a6-b7a1-4d378c539874",
   "metadata": {
    "tags": []
   },
   "outputs": [],
   "source": [
    "iterables = [ordered_cols, [\"Strong\", \"Weak\", \"Ranking\"]]\n",
    "\n",
    "multi = pd.MultiIndex.from_product(iterables, names=[\"feature\", \"results\"])"
   ]
  },
  {
   "cell_type": "code",
   "execution_count": null,
   "id": "9ae976a6-0999-4159-a759-51b53ff30644",
   "metadata": {
    "tags": []
   },
   "outputs": [],
   "source": [
    "support_df = pd.DataFrame(index=range(1, 6), columns=multi)\n",
    "support_df.index.name = \"Folds\""
   ]
  },
  {
   "cell_type": "markdown",
   "id": "8685c3b4-1ff0-453b-b2b4-761072f07f5d",
   "metadata": {},
   "source": [
    "Iterate over all features and their corresponding lag, and save its support to the dataframe"
   ]
  },
  {
   "cell_type": "code",
   "execution_count": null,
   "id": "5ae5b71c-9ce0-4ed8-9e01-65424ab8f0ee",
   "metadata": {
    "tags": []
   },
   "outputs": [],
   "source": [
    "for key, item in strong_support.items():\n",
    "    weak = weak_support[key]\n",
    "    rank = ranking[key]\n",
    "    for i in range(len(flat_cols)):\n",
    "        name = flat_cols[i][:-6]  # Drop num lags\n",
    "        lags = flat_cols[i][-1]  # Number of lags\n",
    "        if item[i]:\n",
    "            prev_val = support_df.loc[key+1, (name, \"Strong\")]\n",
    "            if pd.isnull(prev_val):\n",
    "                support_df.loc[key+1, (name, \"Strong\")] = [lags]\n",
    "            else:\n",
    "                support_df.loc[key+1, (name, \"Strong\")] = prev_val.append(lags)\n",
    "        if weak[i]:\n",
    "            prev_val = support_df.loc[key+1, (name, \"Weak\")]\n",
    "            if pd.isnull(prev_val):\n",
    "                support_df.loc[key+1, (name, \"Weak\")] = [lags]\n",
    "            else:\n",
    "                support_df.loc[key+1, (name, \"Weak\")] = prev_val.append(lags)\n",
    "            \n",
    "        support_df.loc[key+1, (name, \"Ranking\")] = rank[i]"
   ]
  },
  {
   "cell_type": "markdown",
   "id": "f80ef477-215a-4b1c-800f-92c29e059a0d",
   "metadata": {},
   "source": [
    "# Create dataset"
   ]
  },
  {
   "cell_type": "markdown",
   "id": "effeb5eb-edcc-4663-a92f-8b9de6a8c85a",
   "metadata": {
    "tags": []
   },
   "source": [
    "## Filter "
   ]
  },
  {
   "cell_type": "markdown",
   "id": "6d8aa62f-6cbb-49ed-80bc-fa7d481a8bcf",
   "metadata": {},
   "source": [
    "Create mask for all columns which doesn't have any NaN values for all folds. This entails features selected either with weak or strong support.\n",
    "* Weak support means that the feature was tentative, ie neither confirmed nor denied at the final iteration of Boruta"
   ]
  },
  {
   "cell_type": "code",
   "execution_count": null,
   "id": "ad4ccd0a-7273-434d-a049-46b2d65cfc18",
   "metadata": {
    "tags": []
   },
   "outputs": [],
   "source": [
    "m1 = support_df.loc[:, (slice(None), \"Strong\")].notna().values\n",
    "m2 = support_df.loc[:, (slice(None), \"Weak\")].notna().values"
   ]
  },
  {
   "cell_type": "markdown",
   "id": "6b86c2fb-0d29-4df6-8bee-18cbafb33bb2",
   "metadata": {},
   "source": [
    "Select all columns which were selected in three or more folds"
   ]
  },
  {
   "cell_type": "code",
   "execution_count": null,
   "id": "da54076b-d9a7-4031-835f-639b76d7ee5d",
   "metadata": {
    "tags": []
   },
   "outputs": [],
   "source": [
    "t = (m1 | m2).sum(axis=0) >= 3\n",
    "cols = support_df.columns.get_level_values(\"feature\").unique()[t]"
   ]
  },
  {
   "cell_type": "markdown",
   "id": "79694645-9692-423f-a35b-93aeeec181ef",
   "metadata": {},
   "source": [
    "Display selected features"
   ]
  },
  {
   "cell_type": "code",
   "execution_count": null,
   "id": "4aac6f30-add5-4256-89e8-16d6fbcbc65c",
   "metadata": {
    "tags": []
   },
   "outputs": [],
   "source": [
    "with pd.option_context(\"display.max_rows\", 85):\n",
    "    print(support_df.loc[:, (cols, (\"Strong\", \"Weak\"))].T.shape[0]/2)\n",
    "    display(support_df.loc[:, (cols, (\"Strong\", \"Weak\"))].T)"
   ]
  },
  {
   "cell_type": "markdown",
   "id": "b259e150-955c-47f9-8293-8c4a6d3506ae",
   "metadata": {
    "tags": []
   },
   "source": [
    "## Filter original data"
   ]
  },
  {
   "cell_type": "markdown",
   "id": "c6d4a3d9-c10f-4c28-9edb-1e9952fe7749",
   "metadata": {},
   "source": [
    "Save the selected set of features as a new dataframe, then save as a `csv`"
   ]
  },
  {
   "cell_type": "code",
   "execution_count": null,
   "id": "c77fce01-aef0-4034-8ad4-2bda42e004e5",
   "metadata": {
    "tags": []
   },
   "outputs": [],
   "source": [
    "cols.insert()"
   ]
  },
  {
   "cell_type": "code",
   "execution_count": null,
   "id": "0adc539b-d11a-4b6b-a878-11244dde0694",
   "metadata": {
    "tags": []
   },
   "outputs": [],
   "source": [
    "new_df = df[df.columns[df.columns.isin(cols)]].copy()"
   ]
  },
  {
   "cell_type": "code",
   "execution_count": null,
   "id": "14ac747f-b1ff-4d62-966e-919caa2e536e",
   "metadata": {},
   "outputs": [],
   "source": [
    "new_df.to_csv(\"feature_selected_data_1_day.csv\")"
   ]
  }
 ],
 "metadata": {
  "kernelspec": {
   "display_name": "master-venv",
   "language": "python",
   "name": "master-venv"
  },
  "language_info": {
   "codemirror_mode": {
    "name": "ipython",
    "version": 3
   },
   "file_extension": ".py",
   "mimetype": "text/x-python",
   "name": "python",
   "nbconvert_exporter": "python",
   "pygments_lexer": "ipython3",
   "version": "3.10.11"
  }
 },
 "nbformat": 4,
 "nbformat_minor": 5
}
